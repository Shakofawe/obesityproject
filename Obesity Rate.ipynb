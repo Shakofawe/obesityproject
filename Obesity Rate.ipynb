{
 "cells": [
  {
   "cell_type": "code",
   "execution_count": 4,
   "id": "d0cf9172",
   "metadata": {},
   "outputs": [],
   "source": [
    "import pandas as pd \n",
    "import matplotlib"
   ]
  },
  {
   "cell_type": "code",
   "execution_count": 5,
   "id": "f630e0e3",
   "metadata": {},
   "outputs": [],
   "source": [
    "#UPDATE this cell with your data source + Dictionary/Codebook\n",
    "#data source: https://nces.ed.gov/pubsearch/pubsinfo.asp?pubid=2020222\n",
    "#data dictionary: https://nces.ed.gov/pubs2020/data/2020222_codebook.pdf"
   ]
  },
  {
   "cell_type": "code",
   "execution_count": 9,
   "id": "ec6cb7af",
   "metadata": {},
   "outputs": [],
   "source": [
    "file = 'Data2.csv'"
   ]
  },
  {
   "cell_type": "code",
   "execution_count": 10,
   "id": "befacf56",
   "metadata": {},
   "outputs": [
    {
     "name": "stdout",
     "output_type": "stream",
     "text": [
      "       Country  Population Density  Urban Population  Median Age  \\\n",
      "0  Afghanistan                54.0            0.2525        17.3   \n",
      "1      Albania               105.0            0.5938        36.2   \n",
      "2      Algeria                17.0            0.7205        27.5   \n",
      "3      Andorra               164.0            0.8815        46.2   \n",
      "4       Angola                24.0            0.6484        16.4   \n",
      "\n",
      "   Obesity Rate  GDP_PPP  Covid cases/1M  Island  Border Closure  \n",
      "0         0.055   2065.0         1446.09       0               0  \n",
      "1         0.217  13965.0        43135.03       0               1  \n",
      "2         0.274  11511.0         2664.38       0               4  \n",
      "3         0.256  49900.0       153368.28       0               1  \n",
      "4         0.082   6670.0          671.30       0               2  \n"
     ]
    }
   ],
   "source": [
    "df = pd.read_csv(file)\n",
    "print(df.head())"
   ]
  },
  {
   "cell_type": "code",
   "execution_count": 14,
   "id": "876c09c7",
   "metadata": {},
   "outputs": [
    {
     "name": "stdout",
     "output_type": "stream",
     "text": [
      "['Country', 'Population Density', 'Urban Population', 'Median Age', 'Obesity Rate', 'GDP_PPP', 'Covid cases/1M', 'Island', 'Border Closure']\n"
     ]
    }
   ],
   "source": [
    "print(list(df))"
   ]
  },
  {
   "cell_type": "code",
   "execution_count": 24,
   "id": "8174c2af",
   "metadata": {},
   "outputs": [
    {
     "name": "stdout",
     "output_type": "stream",
     "text": [
      "     Obesity Rate  freq\n",
      "48          0.021     1\n",
      "107         0.036     1\n",
      "101         0.038     1\n",
      "19          0.039     2\n",
      "40          0.041     1\n",
      "..            ...   ...\n",
      "64          0.482     1\n",
      "34          0.516     1\n",
      "53          0.529     1\n",
      "72          0.553     1\n",
      "41          0.610     1\n",
      "\n",
      "[145 rows x 2 columns]\n"
     ]
    }
   ],
   "source": [
    "#output frequency table of chosen column in dataset\n",
    "col = 'Obesity Rate' #<-edit this value! column name as it appears in dataframe\n",
    "col_name = 'Obesity Rate' #<-edit this value! descriptive name for column\n",
    "freq = df[col].value_counts().rename_axis(col_name).reset_index(name='freq')\n",
    "freq = freq.sort_values(by = col_name)\n",
    "print(freq)"
   ]
  },
  {
   "cell_type": "code",
   "execution_count": 25,
   "id": "18cca3b9",
   "metadata": {},
   "outputs": [
    {
     "ename": "SyntaxError",
     "evalue": "invalid syntax (3029461979.py, line 3)",
     "output_type": "error",
     "traceback": [
      "\u001b[0;36m  Input \u001b[0;32mIn [25]\u001b[0;36m\u001b[0m\n\u001b[0;31m    codebook = #['1', 'UNDER $2,500']\u001b[0m\n\u001b[0m               ^\u001b[0m\n\u001b[0;31mSyntaxError\u001b[0m\u001b[0;31m:\u001b[0m invalid syntax\n"
     ]
    }
   ],
   "source": [
    "#replace codes with descriptive labels\n",
    "#if your dataframe already has descriptive labels, you don't need to run this cell\n",
    "codebook = #['1', 'UNDER $2,500']\n",
    "          #['2', '$2,500 TO $4,999'] \n",
    "          #['3' , '$5,000 TO $7,499']\n",
    "          #['4', '$7,500 TO $9,999'] \n",
    "          #['5', '$10,000 TO $12,499' ] #6=$12,500 TO $14,999 7=$15,000 TO $17,499 8=$17,500 TO $19,999 9=$20,000 TO $22,499 10=$22,500 TO $24,999 11=$25,000 TO $27,499 12=$27,500 TO $29,999 13=$30,000 TO $32,499 14=$32,500 TO $34,999 15=$35,000 TO $37,499 16=$37,500 TO $39,999 17=$40,000 TO $42,499 18=$42,500 TO $44,999 19=$45,000 TO $47,499 20=$47,500 TO $49,999 21=$50,000 TO $52,499 22=$52,500 TO $54,999 23=$55,000 TO $57,499 24=$57,500 TO $59,999 25=$60,000 TO $62,499 26=$62,500 TO $64,999 27=$65,000 TO $67,499 28=$67,500 TO $69,999 29=$70,000 TO $72,499 30=$72,500 TO $74,999 31=$75,000 TO $77,499 32=$77,500 TO $79,999 33=$80,000 TO $82,499 34=$82,500 TO $84,999 35=$85,000 TO $87,499 36=$87,500 TO $89,999 37=$90,000 TO $92,499 38=$92,500 TO $94,999 39=$95,000 TO $97,499 40=$97,500 TO $99,999 41=$100,000 AND OVER\n",
    "          #['1', 'Married Couple F']\n",
    "          #['2', ]\n",
    "        #loops through label codes and replaces them in frequency table\n",
    "for lbl in codebook:\n",
    "    #use line below if codes are stored as integers\n",
    "    freq[col_name] = freq[col_name].replace(int(lbl[0]), lbl[1])\n",
    "    #use line below if codes are stored as strings\n",
    "    #freq[col_name] = freq[col_name].replace(lbl[0], lbl[1])\n",
    "#prints updated frequency table\n",
    "print(freq)"
   ]
  },
  {
   "cell_type": "code",
   "execution_count": 26,
   "id": "ba737806",
   "metadata": {},
   "outputs": [
    {
     "data": {
      "image/png": "[encoded data removed]",
      "text/plain": [
       "<Figure size 432x288 with 1 Axes>"
      ]
     },
     "metadata": {
      "needs_background": "light"
     },
     "output_type": "display_data"
    }
   ],
   "source": [
    "ax = freq.plot.barh(x=col_name, y='freq', rot=0)"
   ]
  },
  {
   "cell_type": "code",
   "execution_count": 28,
   "id": "90f2bf0b",
   "metadata": {},
   "outputs": [
    {
     "name": "stdout",
     "output_type": "stream",
     "text": [
      "0.1968263157894737\n",
      "0.207\n",
      "0.10941555339611966\n"
     ]
    }
   ],
   "source": [
    "col = 'Obesity Rate'\n",
    "Mean = df[col].mean()\n",
    "med = df[col].median()\n",
    "standev = df[col].std()\n",
    "print(Mean)\n",
    "print(med)\n",
    "print(standev)"
   ]
  },
  {
   "cell_type": "code",
   "execution_count": null,
   "id": "153a5d4c",
   "metadata": {},
   "outputs": [],
   "source": []
  }
 ],
 "metadata": {
  "kernelspec": {
   "display_name": "Python 3 (ipykernel)",
   "language": "python",
   "name": "python3"
  },
  "language_info": {
   "codemirror_mode": {
    "name": "ipython",
    "version": 3
   },
   "file_extension": ".py",
   "mimetype": "text/x-python",
   "name": "python",
   "nbconvert_exporter": "python",
   "pygments_lexer": "ipython3",
   "version": "3.9.10+"
  }
 },
 "nbformat": 4,
 "nbformat_minor": 5
}
